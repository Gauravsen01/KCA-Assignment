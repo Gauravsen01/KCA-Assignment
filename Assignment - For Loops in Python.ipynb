{
 "cells": [
  {
   "cell_type": "markdown",
   "id": "c04629db",
   "metadata": {},
   "source": [
    "# Assignment : For Loops in Python\n",
    "## Basic Loop Questions:\n",
    "\n",
    "1. Print numbers from 1 to 20 using a for loop.\n",
    "2. Calculate the sum of all odd numbers from 1 to 50 using a for loop.\n",
    "3. Print the first 10 multiples of a given number using a for loop.\n",
    "4. Find the factorial of a given number using a for loop.\n",
    "5. Reverse a string using a for loop.*"
   ]
  },
  {
   "cell_type": "markdown",
   "id": "1c85422b",
   "metadata": {},
   "source": [
    "#### The looping simplifies the complex problems into the easy ones. It enables to alter the flow of the program so that instead of writing the same code again and again, we can execute the same code for a finite number of times.\n",
    "\n",
    "#### The for loop in Python is used to iterate over a sequence (like a list, tuple, or string) or other iterable objects. Iterating over a sequence means going through each element one by one"
   ]
  },
  {
   "cell_type": "code",
   "execution_count": 2,
   "id": "f450e635",
   "metadata": {},
   "outputs": [
    {
     "name": "stdout",
     "output_type": "stream",
     "text": [
      "1234567891011121314151617181920"
     ]
    }
   ],
   "source": [
    "#1.\n",
    "\n",
    "for i in range(1,21,1):\n",
    "    print(i, end='')"
   ]
  },
  {
   "cell_type": "code",
   "execution_count": 1,
   "id": "edaf52ae",
   "metadata": {},
   "outputs": [
    {
     "name": "stdout",
     "output_type": "stream",
     "text": [
      "Sum of odds number from 1 to 50 : 625\n"
     ]
    }
   ],
   "source": [
    "#2.\n",
    "\n",
    "sum_of_odds = 0\n",
    "\n",
    "for i in range(1,51):\n",
    "    if i%2!=0:\n",
    "        sum_of_odds += i\n",
    "print(\"Sum of odds number from 1 to 50 :\",sum_of_odds)\n"
   ]
  },
  {
   "cell_type": "code",
   "execution_count": 15,
   "id": "4c3fa289",
   "metadata": {},
   "outputs": [
    {
     "name": "stdout",
     "output_type": "stream",
     "text": [
      "Enter the number30\n",
      "30 60 90 120 150 180 210 240 270 300 "
     ]
    }
   ],
   "source": [
    "#3.\n",
    "\n",
    "given_num = int(input(\"Enter the number\"))\n",
    "\n",
    "for i in range(1,11):\n",
    "    print(given_num*i, end=' ')"
   ]
  },
  {
   "cell_type": "code",
   "execution_count": 2,
   "id": "c12395d6",
   "metadata": {},
   "outputs": [
    {
     "name": "stdout",
     "output_type": "stream",
     "text": [
      "Enter the number4\n",
      " The factotial of number is : 24\n"
     ]
    }
   ],
   "source": [
    "#4.\n",
    "\n",
    "fac_num = int(input(\"Enter the number\"))\n",
    "\n",
    "if fac_num<0:\n",
    "    print(\"Factorial is not defined for the negative values\")\n",
    "else:\n",
    "    result = 1\n",
    "    for i in range(1,fac_num+1):\n",
    "        result *= i\n",
    "    print(f\" The factotial of number is : {result}\")"
   ]
  },
  {
   "cell_type": "code",
   "execution_count": 12,
   "id": "1611efa3",
   "metadata": {},
   "outputs": [
    {
     "name": "stdout",
     "output_type": "stream",
     "text": [
      "Enter the string here :varuag\n",
      "reversed string is gaurav\n"
     ]
    }
   ],
   "source": [
    "string = input(\"Enter the string here :\")\n",
    "reversed_string = \"\"\n",
    "\n",
    "for i in range(len(string)-1,-1,-1):\n",
    "    reversed_string += string[i]\n",
    "\n",
    "print(f\"reversed string is {reversed_string}\")"
   ]
  },
  {
   "cell_type": "markdown",
   "id": "03f688af",
   "metadata": {},
   "source": [
    "# Pattern-Based Questions:\n",
    "6. Print the following right-angled triangle pattern using a for loop:\n",
    "\n",
    "#### *\n",
    "#### * *\n",
    "#### * * *\n",
    "#### * * * *\n",
    "#### * * * * *\n"
   ]
  },
  {
   "cell_type": "code",
   "execution_count": 30,
   "id": "e8a96691",
   "metadata": {},
   "outputs": [
    {
     "name": "stdout",
     "output_type": "stream",
     "text": [
      "*\n",
      "**\n",
      "***\n",
      "****\n",
      "*****\n"
     ]
    }
   ],
   "source": [
    "for i in range(1,6):\n",
    "    result = \"\"\n",
    "    for k in range(1,i+1):\n",
    "        result = result + \"*\"\n",
    "    print(result)\n",
    "        \n",
    "    "
   ]
  },
  {
   "cell_type": "markdown",
   "id": "1c29bf65",
   "metadata": {},
   "source": [
    "7. *Print the following inverted triangle pattern using a for loop:\n",
    "\n",
    "#### * * * * *\n",
    "#### * * * *\n",
    "#### * * *\n",
    "#### * * \n",
    "#### *"
   ]
  },
  {
   "cell_type": "code",
   "execution_count": 54,
   "id": "5d1ff24f",
   "metadata": {},
   "outputs": [
    {
     "name": "stdout",
     "output_type": "stream",
     "text": [
      "*****\n",
      "****\n",
      "***\n",
      "**\n",
      "*\n"
     ]
    }
   ],
   "source": [
    "for i in range(1,6):\n",
    "    result = \"\"\n",
    "    for j in range(1,7-i):\n",
    "        result = result + \"*\"\n",
    "    print(result)"
   ]
  },
  {
   "cell_type": "markdown",
   "id": "c66a874e",
   "metadata": {},
   "source": [
    "8. *Print the following pyramid pattern using a for loop :\n",
    "\n",
    "#####   *\n",
    "#####   **\n",
    "#####  ***\n",
    "##### ****\n",
    "##### *****\n"
   ]
  },
  {
   "cell_type": "code",
   "execution_count": 85,
   "id": "5038134d",
   "metadata": {},
   "outputs": [
    {
     "name": "stdout",
     "output_type": "stream",
     "text": [
      "     *\n",
      "    * *\n",
      "   * * *\n",
      "  * * * *\n",
      " * * * * *\n"
     ]
    }
   ],
   "source": [
    "for row in range(1,6):\n",
    "    result = \"\"\n",
    "    for i in range(5,row,-1):\n",
    "        result = result + \" \"\n",
    "    for j in range(1,row+1):\n",
    "        result = result + \" *\"\n",
    "    print(result)"
   ]
  },
  {
   "cell_type": "code",
   "execution_count": 88,
   "id": "fb8ffcd0",
   "metadata": {},
   "outputs": [
    {
     "data": {
      "text/plain": [
       "'\\n9. *Print the following diamond pattern using a for loop:*\\n\\n     *\\n    * *\\n   * * *\\n  * * * *\\n * * * * * \\n  * * * *\\n   * * *\\n    * *\\n     *\\n'"
      ]
     },
     "execution_count": 88,
     "metadata": {},
     "output_type": "execute_result"
    }
   ],
   "source": [
    "\"\"\"\n",
    "9. *Print the following diamond pattern using a for loop:*\n",
    "\n",
    "     *\n",
    "    * *\n",
    "   * * *\n",
    "  * * * *\n",
    " * * * * * \n",
    "  * * * *\n",
    "   * * *\n",
    "    * *\n",
    "     *\n",
    "\"\"\""
   ]
  },
  {
   "cell_type": "code",
   "execution_count": 9,
   "id": "af8a74db",
   "metadata": {},
   "outputs": [
    {
     "name": "stdout",
     "output_type": "stream",
     "text": [
      "     *\n",
      "    * *\n",
      "   * * *\n",
      "  * * * *\n",
      " * * * * *\n",
      "  * * * *\n",
      "   * * *\n",
      "    * *\n",
      "     *\n",
      "     \n"
     ]
    }
   ],
   "source": [
    "for row in range(1,6):\n",
    "    result = \"\"\n",
    "    for i in range(5,row,-1):\n",
    "        result = result + \" \"\n",
    "    for j in range(1,row+1):\n",
    "        result = result + \" *\"\n",
    "    print(result)\n",
    "for row1 in range(1,6):\n",
    "    result1 = \" \"\n",
    "    for k in range(1,row1):\n",
    "        result1 = result1 + \" \"\n",
    "    for l in range(5,row1,-1):\n",
    "        result1 = result1 + \" *\"\n",
    "    print(result1)"
   ]
  },
  {
   "cell_type": "code",
   "execution_count": 13,
   "id": "adcd0dfe",
   "metadata": {},
   "outputs": [],
   "source": [
    "#10.Print the following number pattern using a for loop:*\n",
    "#1\n",
    "#1 2\n",
    "#1 2 3\n",
    "#1 2 3 4\n",
    "#1 2 3 4 5"
   ]
  },
  {
   "cell_type": "code",
   "execution_count": 31,
   "id": "c9495e0f",
   "metadata": {},
   "outputs": [
    {
     "name": "stdout",
     "output_type": "stream",
     "text": [
      "1 \n",
      "1 2 \n",
      "1 2 3 \n",
      "1 2 3 4 \n",
      "1 2 3 4 5 \n"
     ]
    }
   ],
   "source": [
    "row = 5\n",
    "for i in range(1,row+1,1):\n",
    "    for j in range(1,i+1,1):\n",
    "        print(j, end = ' ')\n",
    "    print()\n",
    "        "
   ]
  },
  {
   "cell_type": "code",
   "execution_count": 27,
   "id": "35d578d5",
   "metadata": {},
   "outputs": [],
   "source": [
    "#11.Print the following number pattern using a for loop:*\n",
    "#1\n",
    "#2 2\n",
    "#3 3 3\n",
    "#4 4 4 4\n",
    "#5 5 5 5 5"
   ]
  },
  {
   "cell_type": "code",
   "execution_count": 76,
   "id": "328f5c34",
   "metadata": {},
   "outputs": [
    {
     "name": "stdout",
     "output_type": "stream",
     "text": [
      "1\n",
      "22\n",
      "333\n",
      "4444\n",
      "55555\n"
     ]
    }
   ],
   "source": [
    "for i in range(1,6):\n",
    "    result = \"\"\n",
    "    for j in range(1,i+1):\n",
    "        result += str(i)\n",
    "    print(result)"
   ]
  },
  {
   "cell_type": "code",
   "execution_count": 78,
   "id": "32a0dc5a",
   "metadata": {},
   "outputs": [],
   "source": [
    "#12. Print the following hollow square pattern using a for loop:*\n",
    "#   * * * * *\n",
    "#   *       *\n",
    "#   *       *\n",
    "#   *       *\n",
    "#   * * * * *"
   ]
  },
  {
   "cell_type": "code",
   "execution_count": 128,
   "id": "a50bb1d7",
   "metadata": {},
   "outputs": [
    {
     "name": "stdout",
     "output_type": "stream",
     "text": [
      " * * * * *\n",
      " *       *\n",
      " *       *\n",
      " *       *\n",
      " * * * * *\n"
     ]
    }
   ],
   "source": [
    "for row in range(1,6):\n",
    "    print(\" *\", end=\"\")\n",
    "print()\n",
    "for i in range(1,4):\n",
    "    space = \"    \"\n",
    "    print(\" *\", space, \" *\")\n",
    "for row in range(1,6):\n",
    "    print(\" *\", end=\"\")\n",
    "print()\n",
    "\n"
   ]
  },
  {
   "cell_type": "code",
   "execution_count": 130,
   "id": "ab76e5b1",
   "metadata": {},
   "outputs": [],
   "source": [
    "#13. Print the following checkerboard pattern using a for loop:\n",
    "\n",
    "# * * * * *\n",
    "#  * * * * *\n",
    "# * * * * *\n",
    "#  * * * * *\n",
    "# * * * * *"
   ]
  },
  {
   "cell_type": "code",
   "execution_count": 159,
   "id": "ad52fb88",
   "metadata": {},
   "outputs": [
    {
     "name": "stdout",
     "output_type": "stream",
     "text": [
      "*  *  *  *  *  \n",
      " *  *  *  *  * \n",
      "*  *  *  *  *  \n",
      " *  *  *  *  * \n",
      "*  *  *  *  *  \n",
      " *  *  *  *  * \n",
      "*  *  *  *  *  \n",
      " *  *  *  *  * \n",
      "*  *  *  *  *  \n",
      " *  *  *  *  * \n"
     ]
    }
   ],
   "source": [
    "n = 10  # Size of the checkerboard\n",
    "\n",
    "for i in range(n):\n",
    "    for j in range(n):\n",
    "        if (i + j) % 2 == 0:\n",
    "            print(\"*\", end=\" \")\n",
    "        else:\n",
    "            print(\"\", end=\" \")\n",
    "    print()  # Move to the next line\n"
   ]
  },
  {
   "cell_type": "code",
   "execution_count": 160,
   "id": "f9dc3e86",
   "metadata": {},
   "outputs": [],
   "source": [
    "# 14. Print the following hollow pyramid pattern using a for loop:\n",
    "#    *\n",
    "#   * *\n",
    "#  *   *\n",
    "# *     *\n",
    "#* * * * *"
   ]
  },
  {
   "cell_type": "code",
   "execution_count": 161,
   "id": "ff1cd6bf",
   "metadata": {},
   "outputs": [
    {
     "name": "stdout",
     "output_type": "stream",
     "text": [
      "    * \n",
      "   * *\n",
      "  *   *\n",
      " *     *\n",
      "* * * * * \n"
     ]
    }
   ],
   "source": [
    "n = 5  # Number of rows\n",
    "\n",
    "for i in range(1, n + 1):  # Loop to print each row\n",
    "    print(\" \" * (n - i), end=\"\")  # Print spaces before stars\n",
    "\n",
    "    if i == 1 or i == n:  # If it's the first or last row\n",
    "        print(\"* \" * i)  # Print stars for the whole row\n",
    "    else:\n",
    "        print(\"*\" + \" \" * (2 * i - 3) + \"*\")  # Print stars at edges with spaces in between\n"
   ]
  },
  {
   "cell_type": "code",
   "execution_count": 162,
   "id": "02705e24",
   "metadata": {},
   "outputs": [],
   "source": [
    "#15. Print the following hourglass pattern using a for loop:*\n",
    "# * * * * *\n",
    "#  *     *\n",
    "#   *   *\n",
    "#    * *\n",
    "#     *\n",
    "#    * *\n",
    "#   *   *\n",
    "#  *     *\n",
    "# * * * * *"
   ]
  },
  {
   "cell_type": "code",
   "execution_count": 190,
   "id": "208b9448",
   "metadata": {},
   "outputs": [
    {
     "name": "stdout",
     "output_type": "stream",
     "text": [
      "* * * * * \n",
      " *     *\n",
      "  *   *\n",
      "   * *\n",
      "    **\n",
      "   * *\n",
      "  *   *\n",
      " *     *\n",
      "* * * * * \n"
     ]
    }
   ],
   "source": [
    "n = 5\n",
    "\n",
    "# Top half of the hourglass\n",
    "for i in range(n):\n",
    "    print(\" \" * i, end=\"\")  # Print leading spaces\n",
    "    \n",
    "    if i == 0:\n",
    "        print(\"* \" * n)  # Print full row of stars\n",
    "    else:\n",
    "        print(\"*\" + \" \" * (2 * (n - i) - 3) + \"*\")  # Print stars at edges with spaces\n",
    "\n",
    "# Bottom half of the hourglass (excluding the middle row to avoid duplication)\n",
    "for i in range(1, n):\n",
    "    print(\" \" * (n - i - 1), end=\"\")  # Print leading spaces\n",
    "\n",
    "    if i == n - 1:\n",
    "        print(\"* \" * n)  # Print full row of stars\n",
    "    else:\n",
    "        print(\"*\" + \" \" * (2 * i - 1) + \"*\")  # Print stars at edges with spaces\n"
   ]
  },
  {
   "cell_type": "code",
   "execution_count": null,
   "id": "c2f8979d",
   "metadata": {},
   "outputs": [],
   "source": []
  },
  {
   "cell_type": "code",
   "execution_count": null,
   "id": "224154ed",
   "metadata": {},
   "outputs": [],
   "source": []
  }
 ],
 "metadata": {
  "kernelspec": {
   "display_name": "Python 3 (ipykernel)",
   "language": "python",
   "name": "python3"
  },
  "language_info": {
   "codemirror_mode": {
    "name": "ipython",
    "version": 3
   },
   "file_extension": ".py",
   "mimetype": "text/x-python",
   "name": "python",
   "nbconvert_exporter": "python",
   "pygments_lexer": "ipython3",
   "version": "3.10.9"
  }
 },
 "nbformat": 4,
 "nbformat_minor": 5
}
